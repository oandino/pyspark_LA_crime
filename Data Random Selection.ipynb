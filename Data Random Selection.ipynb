{
 "cells": [
  {
   "cell_type": "markdown",
   "id": "a610f4f6-cda5-460a-9584-fdd6395464bd",
   "metadata": {},
   "source": [
    "# Random data selection\n",
    "\n",
    "To avoid using too much space I will remove random lines from the original file located here: \n",
    "https://www.kaggle.com/datasets/nathaniellybrand/los-angeles-crime-dataset-2020-present\n"
   ]
  },
  {
   "cell_type": "code",
   "execution_count": 1,
   "id": "5894b130-1f14-4403-8a9a-23e51fadd44c",
   "metadata": {},
   "outputs": [],
   "source": [
    "import pandas as pd\n",
    "import random\n",
    "\n",
    "# Read the CSV file and parse the 'Date Rptd' field as datetime\n",
    "df = pd.read_csv('Crime_Data_from_2020_to_Present.csv', parse_dates=['Date Rptd'], infer_datetime_format=True)\n",
    "\n",
    "# Set the random seed for reproducibility (optional)\n",
    "random.seed(42)\n",
    "\n",
    "# Sample 30% of the rows\n",
    "sampled_df = df.sample(frac=0.3, random_state=42)\n",
    "\n",
    "# Create a new CSV file with the sampled data\n",
    "sampled_df.to_csv('Crime_Data_LA.csv', index=False)"
   ]
  },
  {
   "cell_type": "code",
   "execution_count": null,
   "id": "a86b7e17-b8c8-4dcc-8731-5ef90071d512",
   "metadata": {},
   "outputs": [],
   "source": []
  }
 ],
 "metadata": {
  "kernelspec": {
   "display_name": "Python 3 (ipykernel)",
   "language": "python",
   "name": "python3"
  },
  "language_info": {
   "codemirror_mode": {
    "name": "ipython",
    "version": 3
   },
   "file_extension": ".py",
   "mimetype": "text/x-python",
   "name": "python",
   "nbconvert_exporter": "python",
   "pygments_lexer": "ipython3",
   "version": "3.8.13"
  }
 },
 "nbformat": 4,
 "nbformat_minor": 5
}
